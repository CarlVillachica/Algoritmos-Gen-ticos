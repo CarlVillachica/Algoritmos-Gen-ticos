{
  "nbformat": 4,
  "nbformat_minor": 0,
  "metadata": {
    "colab": {
      "name": "Untitled1.ipynb",
      "provenance": [],
      "authorship_tag": "ABX9TyPW6ErxqyD16sr6grFsoRJo",
      "include_colab_link": true
    },
    "kernelspec": {
      "name": "python3",
      "display_name": "Python 3"
    },
    "language_info": {
      "name": "python"
    }
  },
  "cells": [
    {
      "cell_type": "markdown",
      "metadata": {
        "id": "view-in-github",
        "colab_type": "text"
      },
      "source": [
        "<a href=\"https://colab.research.google.com/github/CarlVillachica/Algoritmos-Gen-ticos/blob/main/Untitled1.ipynb\" target=\"_parent\"><img src=\"https://colab.research.google.com/assets/colab-badge.svg\" alt=\"Open In Colab\"/></a>"
      ]
    },
    {
      "cell_type": "markdown",
      "metadata": {
        "id": "1sG09EWllvZl"
      },
      "source": [
        "Reconocedor de digitos a mano usando una red convolucional\n",
        "Base de datos usada de http://yann.lecun.com/exdb/mnist/ (MNIST)"
      ]
    },
    {
      "cell_type": "code",
      "metadata": {
        "id": "bcc0PJwNmMzD"
      },
      "source": [
        "%tensorflow_version 2.x\n",
        "#sirve para setear la version de tensorflow en colab"
      ],
      "execution_count": 7,
      "outputs": []
    },
    {
      "cell_type": "code",
      "metadata": {
        "colab": {
          "base_uri": "https://localhost:8080/"
        },
        "id": "g9cq7QxCmj7_",
        "outputId": "e4957b31-581a-4498-ca3a-fb4caf480b5c"
      },
      "source": [
        "import tensorflow as tf\n",
        "import matplotlib.pyplot as plt\n",
        "import seaborn as sn\n",
        "import numpy as np\n",
        "import pandas as pd\n",
        "import math\n",
        "import datetime\n",
        "import platform\n",
        "\n",
        "#Uso de python , tensorflow y keras\n",
        "\n",
        "print('Se cargo de manera correcta')"
      ],
      "execution_count": 8,
      "outputs": [
        {
          "output_type": "stream",
          "text": [
            "Se cargo de manera correcta\n"
          ],
          "name": "stdout"
        }
      ]
    },
    {
      "cell_type": "code",
      "metadata": {
        "colab": {
          "base_uri": "https://localhost:8080/"
        },
        "id": "r4mNh2CNnRS1",
        "outputId": "a3a73feb-139e-4514-fe19-d3d3668e0103"
      },
      "source": [
        "%load_ext tensorboard\n",
        "!rm -rf ./.logs/\n",
        "#cargar debugger y limpiar cache"
      ],
      "execution_count": 9,
      "outputs": [
        {
          "output_type": "stream",
          "text": [
            "The tensorboard extension is already loaded. To reload it, use:\n",
            "  %reload_ext tensorboard\n"
          ],
          "name": "stdout"
        }
      ]
    },
    {
      "cell_type": "code",
      "metadata": {
        "id": "wNXeamn1nhfp"
      },
      "source": [
        "mnist_dataset = tf.keras.datasets.mnist\n",
        "(x_train, y_train), (x_test, y_test) = mnist_dataset.load_data()\n",
        "#cargando los datos"
      ],
      "execution_count": 15,
      "outputs": []
    },
    {
      "cell_type": "code",
      "metadata": {
        "colab": {
          "base_uri": "https://localhost:8080/"
        },
        "id": "Iyb00j03nrIR",
        "outputId": "5644c137-b40e-43d8-dcfc-8d72821efb4e"
      },
      "source": [
        "print('Se cargo de manera correcta')"
      ],
      "execution_count": 18,
      "outputs": [
        {
          "output_type": "stream",
          "text": [
            "Se cargo de manera correcta\n"
          ],
          "name": "stdout"
        }
      ]
    },
    {
      "cell_type": "code",
      "metadata": {
        "id": "SzGNFvlgockP"
      },
      "source": [
        "x_train_normalized = x_train / 255\n",
        "x_test_normalized = x_test / 255\n",
        "#se normalizaron los datos de [0,255] a [0,1] "
      ],
      "execution_count": 24,
      "outputs": []
    },
    {
      "cell_type": "markdown",
      "metadata": {
        "id": "_Oqs5kBNpbwi"
      },
      "source": [
        "Usando el modelo secuencial de Keras con 4 capas:"
      ]
    },
    {
      "cell_type": "code",
      "metadata": {
        "id": "jfHdop2zpJa5"
      },
      "source": [
        "model = tf.keras.models.Sequential()\n",
        "\n",
        "# Input layers.\n",
        "model.add(tf.keras.layers.Flatten(input_shape=x_train_normalized.shape[1:]))\n",
        "model.add(tf.keras.layers.Dense(\n",
        "    units=128,\n",
        "    activation=tf.keras.activations.relu,\n",
        "    kernel_regularizer=tf.keras.regularizers.l2(0.002)\n",
        "))\n",
        "\n",
        "# Hidden layers.\n",
        "model.add(tf.keras.layers.Dense(\n",
        "    units=128,\n",
        "    activation=tf.keras.activations.relu,\n",
        "    kernel_regularizer=tf.keras.regularizers.l2(0.002)\n",
        "))\n",
        "\n",
        "# Output layers.\n",
        "model.add(tf.keras.layers.Dense(\n",
        "    units=10,\n",
        "    activation=tf.keras.activations.softmax\n",
        "))"
      ],
      "execution_count": 28,
      "outputs": []
    },
    {
      "cell_type": "code",
      "metadata": {
        "id": "4WEzVxFJpxJ3"
      },
      "source": [
        "adam_optimizer = tf.keras.optimizers.Adam(learning_rate=0.001)\n",
        "\n",
        "model.compile(\n",
        "    optimizer=adam_optimizer,\n",
        "    loss=tf.keras.losses.sparse_categorical_crossentropy,\n",
        "    metrics=['accuracy']\n",
        ")"
      ],
      "execution_count": 32,
      "outputs": []
    },
    {
      "cell_type": "code",
      "metadata": {
        "colab": {
          "base_uri": "https://localhost:8080/"
        },
        "id": "QChgAzzIqQYk",
        "outputId": "5c2e81b7-68a3-4268-cdaf-3d6c536c13d5"
      },
      "source": [
        "\n",
        "log_dir=\".logs/fit/\" + datetime.datetime.now().strftime(\"%Y%m%d-%H%M%S\")\n",
        "tensorboard_callback = tf.keras.callbacks.TensorBoard(log_dir=log_dir, histogram_freq=1)\n",
        "\n",
        "training_history = model.fit(\n",
        "    x_train_normalized,\n",
        "    y_train,\n",
        "    epochs=10,\n",
        "    validation_data=(x_test_normalized, y_test),\n",
        "    callbacks=[tensorboard_callback]\n",
        ")"
      ],
      "execution_count": 35,
      "outputs": [
        {
          "output_type": "stream",
          "text": [
            "Epoch 1/10\n",
            "1875/1875 [==============================] - 6s 3ms/step - loss: 0.1732 - accuracy: 0.9713 - val_loss: 0.1803 - val_accuracy: 0.9701\n",
            "Epoch 2/10\n",
            "1875/1875 [==============================] - 6s 3ms/step - loss: 0.1724 - accuracy: 0.9715 - val_loss: 0.1806 - val_accuracy: 0.9695\n",
            "Epoch 3/10\n",
            "1875/1875 [==============================] - 6s 3ms/step - loss: 0.1705 - accuracy: 0.9727 - val_loss: 0.1816 - val_accuracy: 0.9701\n",
            "Epoch 4/10\n",
            "1875/1875 [==============================] - 6s 3ms/step - loss: 0.1727 - accuracy: 0.9714 - val_loss: 0.1838 - val_accuracy: 0.9675\n",
            "Epoch 5/10\n",
            "1875/1875 [==============================] - 6s 3ms/step - loss: 0.1726 - accuracy: 0.9718 - val_loss: 0.1721 - val_accuracy: 0.9714\n",
            "Epoch 6/10\n",
            "1875/1875 [==============================] - 6s 3ms/step - loss: 0.1696 - accuracy: 0.9720 - val_loss: 0.1779 - val_accuracy: 0.9703\n",
            "Epoch 7/10\n",
            "1875/1875 [==============================] - 6s 3ms/step - loss: 0.1712 - accuracy: 0.9711 - val_loss: 0.1937 - val_accuracy: 0.9635\n",
            "Epoch 8/10\n",
            "1875/1875 [==============================] - 6s 3ms/step - loss: 0.1708 - accuracy: 0.9722 - val_loss: 0.2031 - val_accuracy: 0.9633\n",
            "Epoch 9/10\n",
            "1875/1875 [==============================] - 6s 3ms/step - loss: 0.1688 - accuracy: 0.9722 - val_loss: 0.1723 - val_accuracy: 0.9733\n",
            "Epoch 10/10\n",
            "1875/1875 [==============================] - 6s 3ms/step - loss: 0.1705 - accuracy: 0.9717 - val_loss: 0.1731 - val_accuracy: 0.9722\n"
          ],
          "name": "stdout"
        }
      ]
    },
    {
      "cell_type": "code",
      "metadata": {
        "colab": {
          "base_uri": "https://localhost:8080/",
          "height": 296
        },
        "id": "lxxxbbFnrH43",
        "outputId": "816eba1b-d1fd-49d3-fb9f-1105ac7cb116"
      },
      "source": [
        "plt.xlabel('Epoch Number')\n",
        "plt.ylabel('Loss')\n",
        "plt.plot(training_history.history['loss'], label='training set')\n",
        "plt.plot(training_history.history['val_loss'], label='test set')\n",
        "plt.legend()"
      ],
      "execution_count": 36,
      "outputs": [
        {
          "output_type": "execute_result",
          "data": {
            "text/plain": [
              "<matplotlib.legend.Legend at 0x7f35a2b48610>"
            ]
          },
          "metadata": {
            "tags": []
          },
          "execution_count": 36
        },
        {
          "output_type": "display_data",
          "data": {
            "image/png": "[encoded data removed]",
            "text/plain": [
              "<Figure size 432x288 with 1 Axes>"
            ]
          },
          "metadata": {
            "tags": [],
            "needs_background": "light"
          }
        }
      ]
    },
    {
      "cell_type": "code",
      "metadata": {
        "colab": {
          "base_uri": "https://localhost:8080/",
          "height": 296
        },
        "id": "bUypGxtCrRDC",
        "outputId": "36462b6a-41a3-46c7-cb7f-de89e6fd2dc0"
      },
      "source": [
        "plt.xlabel('Epoch Number')\n",
        "plt.ylabel('Accuracy')\n",
        "plt.plot(training_history.history['accuracy'], label='training set')\n",
        "plt.plot(training_history.history['val_accuracy'], label='test set')\n",
        "plt.legend()"
      ],
      "execution_count": 37,
      "outputs": [
        {
          "output_type": "execute_result",
          "data": {
            "text/plain": [
              "<matplotlib.legend.Legend at 0x7f35a2bd8fd0>"
            ]
          },
          "metadata": {
            "tags": []
          },
          "execution_count": 37
        },
        {
          "output_type": "display_data",
          "data": {
            "image/png": "[encoded data removed]",
            "text/plain": [
              "<Figure size 432x288 with 1 Axes>"
            ]
          },
          "metadata": {
            "tags": [],
            "needs_background": "light"
          }
        }
      ]
    }
  ]
}